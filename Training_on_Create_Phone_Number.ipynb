{
  "nbformat": 4,
  "nbformat_minor": 0,
  "metadata": {
    "colab": {
      "name": "Training_on_Create_Phone_Number",
      "provenance": [],
      "authorship_tag": "ABX9TyOL9w3ILdN9IlLV/H/0H773",
      "include_colab_link": true
    },
    "kernelspec": {
      "name": "python3",
      "display_name": "Python 3"
    }
  },
  "cells": [
    {
      "cell_type": "markdown",
      "metadata": {
        "id": "view-in-github",
        "colab_type": "text"
      },
      "source": [
        "<a href=\"https://colab.research.google.com/github/Rajora0/kata/blob/main/Training_on_Create_Phone_Number.ipynb\" target=\"_parent\"><img src=\"https://colab.research.google.com/assets/colab-badge.svg\" alt=\"Open In Colab\"/></a>"
      ]
    },
    {
      "cell_type": "markdown",
      "metadata": {
        "id": "jDeKX721NCY2"
      },
      "source": [
        "# Training on Create Phone Number"
      ]
    },
    {
      "cell_type": "code",
      "metadata": {
        "id": "Fwrxd12iAQVs"
      },
      "source": [
        "def create_phone_number(n):\n",
        "    x=[]\n",
        "    for i in range(len(n)):\n",
        "        if i <= 2:\n",
        "            x.append(n[i])\n",
        "    for i in range(len(n)):\n",
        "        if i >= 3 and i <= 5:\n",
        "            x.append(n[i])\n",
        "    for i in range(len(n)):\n",
        "        if i >= 6 and i <= 9:\n",
        "            x.append(n[i])\n",
        "    number = '('+str(x[0])+str(x[1])+str(x[2])+') '+str(x[3])+str(x[4])+str(x[5])+'-'+str(x[6])+str(x[7])+str(x[8])+str(x[9])\n",
        "\n",
        "\n",
        "    return number"
      ],
      "execution_count": 1,
      "outputs": []
    },
    {
      "cell_type": "code",
      "metadata": {
        "id": "w6zNQRyMAawZ",
        "outputId": "2a0a6210-6cfd-43b2-975f-0d85f2c16cf9",
        "colab": {
          "base_uri": "https://localhost:8080/",
          "height": 35
        }
      },
      "source": [
        "create_phone_number([1, 2, 3, 4, 5, 6, 7, 8, 9, 0]) # => returns \"(123) 456-7890\""
      ],
      "execution_count": null,
      "outputs": [
        {
          "output_type": "execute_result",
          "data": {
            "application/vnd.google.colaboratory.intrinsic+json": {
              "type": "string"
            },
            "text/plain": [
              "'(123) 456-7890'"
            ]
          },
          "metadata": {
            "tags": []
          },
          "execution_count": 106
        }
      ]
    }
  ]
}